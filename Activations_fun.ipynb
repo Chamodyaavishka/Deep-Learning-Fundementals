{
 "cells": [
  {
   "cell_type": "markdown",
   "metadata": {},
   "source": [
    "#### sigmoid"
   ]
  },
  {
   "cell_type": "code",
   "execution_count": 12,
   "metadata": {},
   "outputs": [
    {
     "name": "stdout",
     "output_type": "stream",
     "text": [
      "13 --> 0.999997739675702\n",
      "3 --> 0.9525741268224334\n",
      "-12 --> 6.144174602214718e-06\n"
     ]
    }
   ],
   "source": [
    "import numpy as np \n",
    "\n",
    "#sigmoid activation funtion \n",
    "def sigmoid(x):\n",
    "    return 1.0 / (1.0 + np.exp(-x))\n",
    " \n",
    "input = [13, 3, -12]\n",
    "\n",
    "for x in input:\n",
    "    print('{} --> {}' .format(x, sigmoid(x)))"
   ]
  },
  {
   "cell_type": "markdown",
   "metadata": {},
   "source": [
    "#### Tanh Funtion"
   ]
  },
  {
   "cell_type": "code",
   "execution_count": 14,
   "metadata": {},
   "outputs": [
    {
     "name": "stdout",
     "output_type": "stream",
     "text": [
      "13 --> 0.9999999999897818\n",
      "3 --> 0.9950547536867306\n",
      "-12 --> -0.9999999999244972\n"
     ]
    }
   ],
   "source": [
    "import numpy as np \n",
    "\n",
    "#tanh activation funtion\n",
    "def tanh(x):\n",
    "    return(np.exp(x) - np.exp(-x)) / (np.exp(x) + np.exp(-x))\n",
    "\n",
    "inputs=[13,3, -12]\n",
    "\n",
    "for x in inputs:\n",
    "    print('{} --> {}' .format(x, tanh(x)))"
   ]
  },
  {
   "cell_type": "markdown",
   "metadata": {},
   "source": [
    "#### ReLU funtion\n",
    "\n"
   ]
  },
  {
   "cell_type": "code",
   "execution_count": 15,
   "metadata": {},
   "outputs": [
    {
     "name": "stdout",
     "output_type": "stream",
     "text": [
      "13 --> 13\n",
      "3 --> 3\n",
      "-12 --> 0.0\n"
     ]
    }
   ],
   "source": [
    "#ReLU activation funtion\n",
    "def relu(x):\n",
    "    return max(0.0, x)\n",
    "\n",
    "inputs =[13, 3 ,-12]\n",
    "\n",
    "for x in inputs:\n",
    "    print('{} --> {}'.format(x, relu(x)))"
   ]
  },
  {
   "cell_type": "markdown",
   "metadata": {},
   "source": [
    "#### Leaky ReLU funtion"
   ]
  },
  {
   "cell_type": "code",
   "execution_count": 17,
   "metadata": {},
   "outputs": [
    {
     "name": "stdout",
     "output_type": "stream",
     "text": [
      "13 --> 13\n",
      "3 --> 3\n",
      "-12 --> -1.2000000000000002\n"
     ]
    }
   ],
   "source": [
    "#ReLU activation funtion\n",
    "def leakyRelu(x):\n",
    "    return max(0.1*x, x)\n",
    "\n",
    "inputs =[13, 3 ,-12]\n",
    "\n",
    "for x in inputs:\n",
    "    print('{} --> {}'.format(x, leakyRelu(x)))"
   ]
  },
  {
   "cell_type": "markdown",
   "metadata": {},
   "source": [
    "#### Softmax"
   ]
  },
  {
   "cell_type": "code",
   "execution_count": 18,
   "metadata": {},
   "outputs": [
    {
     "name": "stdout",
     "output_type": "stream",
     "text": [
      "[0.11849965 0.8756006  0.00589975]\n"
     ]
    }
   ],
   "source": [
    "import numpy as np\n",
    "\n",
    "#softmax activation funtion\n",
    "def softmax(x):\n",
    "    return np.exp(x)  / np.exp(x).sum()\n",
    "\n",
    "inputs= [1,3,-2]\n",
    "\n",
    "print(softmax(inputs))"
   ]
  },
  {
   "cell_type": "code",
   "execution_count": null,
   "metadata": {},
   "outputs": [],
   "source": []
  }
 ],
 "metadata": {
  "kernelspec": {
   "display_name": "NEW",
   "language": "python",
   "name": "python3"
  },
  "language_info": {
   "codemirror_mode": {
    "name": "ipython",
    "version": 3
   },
   "file_extension": ".py",
   "mimetype": "text/x-python",
   "name": "python",
   "nbconvert_exporter": "python",
   "pygments_lexer": "ipython3",
   "version": "3.12.2"
  }
 },
 "nbformat": 4,
 "nbformat_minor": 2
}
